{
 "cells": [
  {
   "cell_type": "code",
   "execution_count": 1,
   "metadata": {},
   "outputs": [],
   "source": [
    "# import packages\n",
    "import numpy as np\n",
    "import pandas as pd\n",
    "import seaborn as sns\n",
    "import matplotlib.pyplot as plt\n",
    "import re\n",
    "import nltk\n",
    "from nltk.corpus import stopwords\n",
    "from nltk.stem.porter import PorterStemmer\n",
    "from sklearn.feature_extraction.text import CountVectorizer\n",
    "from sklearn.model_selection import train_test_split\n",
    "from sklearn.ensemble import RandomForestClassifier\n",
    "from sklearn.metrics import accuracy_score, precision_score, recall_score, confusion_matrix, f1_score\n",
    "from imblearn.over_sampling import SMOTE\n",
    "\n",
    "import warnings\n",
    "warnings.filterwarnings(\"ignore\")\n"
   ]
  },
  {
   "cell_type": "markdown",
   "metadata": {},
   "source": [
    "### Load the dataset\n",
    "\n",
    "- Load the train data and using all your knowledge try to explore the different statistical properties of the dataset."
   ]
  },
  {
   "cell_type": "code",
   "execution_count": 6,
   "metadata": {},
   "outputs": [
    {
     "data": {
      "text/html": [
       "<div>\n",
       "<style scoped>\n",
       "    .dataframe tbody tr th:only-of-type {\n",
       "        vertical-align: middle;\n",
       "    }\n",
       "\n",
       "    .dataframe tbody tr th {\n",
       "        vertical-align: top;\n",
       "    }\n",
       "\n",
       "    .dataframe thead th {\n",
       "        text-align: right;\n",
       "    }\n",
       "</style>\n",
       "<table border=\"1\" class=\"dataframe\">\n",
       "  <thead>\n",
       "    <tr style=\"text-align: right;\">\n",
       "      <th></th>\n",
       "      <th>Id</th>\n",
       "      <th>rating</th>\n",
       "      <th>date</th>\n",
       "      <th>variation</th>\n",
       "      <th>verified_reviews</th>\n",
       "      <th>feedback</th>\n",
       "      <th>length</th>\n",
       "    </tr>\n",
       "  </thead>\n",
       "  <tbody>\n",
       "    <tr>\n",
       "      <th>0</th>\n",
       "      <td>1916</td>\n",
       "      <td>5</td>\n",
       "      <td>2018-07-26</td>\n",
       "      <td>White  Plus</td>\n",
       "      <td>I love it. Use it mostly for the music huge re...</td>\n",
       "      <td>1</td>\n",
       "      <td>69</td>\n",
       "    </tr>\n",
       "    <tr>\n",
       "      <th>1</th>\n",
       "      <td>500</td>\n",
       "      <td>5</td>\n",
       "      <td>2018-06-24</td>\n",
       "      <td>Black</td>\n",
       "      <td>There's really no dislike for Alexa( dot) I th...</td>\n",
       "      <td>1</td>\n",
       "      <td>169</td>\n",
       "    </tr>\n",
       "    <tr>\n",
       "      <th>2</th>\n",
       "      <td>2958</td>\n",
       "      <td>5</td>\n",
       "      <td>2018-07-30</td>\n",
       "      <td>Black  Dot</td>\n",
       "      <td>I love searching the Alexa skill shop on the a...</td>\n",
       "      <td>1</td>\n",
       "      <td>255</td>\n",
       "    </tr>\n",
       "    <tr>\n",
       "      <th>3</th>\n",
       "      <td>1968</td>\n",
       "      <td>5</td>\n",
       "      <td>2018-07-25</td>\n",
       "      <td>White  Plus</td>\n",
       "      <td>I love my Echo Plus and have cousins from Ital...</td>\n",
       "      <td>1</td>\n",
       "      <td>190</td>\n",
       "    </tr>\n",
       "    <tr>\n",
       "      <th>4</th>\n",
       "      <td>156</td>\n",
       "      <td>4</td>\n",
       "      <td>2018-07-30</td>\n",
       "      <td>Charcoal Fabric</td>\n",
       "      <td>i have not found a way to access my echo thoro...</td>\n",
       "      <td>1</td>\n",
       "      <td>522</td>\n",
       "    </tr>\n",
       "  </tbody>\n",
       "</table>\n",
       "</div>"
      ],
      "text/plain": [
       "     Id  rating       date         variation  \\\n",
       "0  1916       5 2018-07-26       White  Plus   \n",
       "1   500       5 2018-06-24             Black   \n",
       "2  2958       5 2018-07-30        Black  Dot   \n",
       "3  1968       5 2018-07-25       White  Plus   \n",
       "4   156       4 2018-07-30  Charcoal Fabric    \n",
       "\n",
       "                                    verified_reviews  feedback  length  \n",
       "0  I love it. Use it mostly for the music huge re...         1      69  \n",
       "1  There's really no dislike for Alexa( dot) I th...         1     169  \n",
       "2  I love searching the Alexa skill shop on the a...         1     255  \n",
       "3  I love my Echo Plus and have cousins from Ital...         1     190  \n",
       "4  i have not found a way to access my echo thoro...         1     522  "
      ]
     },
     "execution_count": 6,
     "metadata": {},
     "output_type": "execute_result"
    }
   ],
   "source": [
    "# Code starts here\n",
    "\n",
    "# load data\n",
    "df = pd.read_csv(\"train.csv\")\n",
    "\n",
    "# Converting date attribute from string to datetime.date datatype \n",
    "df['date'] = pd.to_datetime(df['date'])\n",
    "\n",
    "# # calculate the total length of word\n",
    "df['length'] = df['verified_reviews'].apply(len)\n",
    "\n",
    "df.head()\n",
    "# # Code ends here"
   ]
  },
  {
   "cell_type": "markdown",
   "metadata": {},
   "source": [
    "### Visualize and Preprocess the data\n",
    "\n",
    "- Visualize the different features of your interest\n",
    "- Retaining only alphabets (Using regular expressions)\n",
    "- Removing stopwords (Using nltk library)"
   ]
  },
  {
   "cell_type": "code",
   "execution_count": 7,
   "metadata": {},
   "outputs": [
    {
     "data": {
      "image/png": "[encoded data removed]",
      "text/plain": [
       "<Figure size 1080x504 with 1 Axes>"
      ]
     },
     "metadata": {
      "needs_background": "light"
     },
     "output_type": "display_data"
    },
    {
     "data": {
      "image/png": "[encoded data removed]",
      "text/plain": [
       "<Figure size 1080x504 with 1 Axes>"
      ]
     },
     "metadata": {
      "needs_background": "light"
     },
     "output_type": "display_data"
    }
   ],
   "source": [
    "## Rating vs feedback\n",
    "\n",
    "# set figure size\n",
    "plt.figure(figsize=(15,7))\n",
    "\n",
    "# generate countplot\n",
    "sns.countplot(x=\"rating\", hue=\"feedback\", data=df)\n",
    "\n",
    "# display plot\n",
    "plt.show()\n",
    "\n",
    "\n",
    "## Product rating vs feedback\n",
    "\n",
    "# set figure size\n",
    "plt.figure(figsize=(15,7))\n",
    "\n",
    "# generate barplot\n",
    "sns.barplot(x=\"rating\", y=\"variation\", hue=\"feedback\", data=df, ci = None)\n",
    "\n",
    "# display plot\n",
    "plt.show()"
   ]
  },
  {
   "cell_type": "code",
   "execution_count": 9,
   "metadata": {},
   "outputs": [],
   "source": [
    "# import packages\n",
    "import re\n",
    "import nltk\n",
    "from nltk.corpus import stopwords\n",
    "from nltk.stem.porter import PorterStemmer\n",
    "\n",
    "# declare empty list 'corpus'\n",
    "corpus=[]\n",
    "\n",
    "# for loop to fill in corpus\n",
    "for i in range(0,2520):\n",
    "    # retain alphabets\n",
    "    review = re.sub('[^a-zA-Z]', ' ', df['verified_reviews'][i] )\n",
    "    # convert to lower case\n",
    "    review=review.lower()\n",
    "    # tokenize\n",
    "    review=review.split()\n",
    "    # initialize stemmer object\n",
    "    ps=PorterStemmer()\n",
    "    # perform stemming\n",
    "    review=[ps.stem(word) for word in review if not word in set(stopwords.words('english'))]\n",
    "    # join elements of list\n",
    "    review=' '.join(review)\n",
    "    # add to 'corpus'\n",
    "    corpus.append(review)\n",
    "    "
   ]
  },
  {
   "cell_type": "markdown",
   "metadata": {},
   "source": [
    "### Model building\n",
    "\n",
    "- Now let's come to the actual task, using any classifier, predict the `feedback`. Use different techniques you have learned to imporove the performance of the model.\n",
    "- Try improving upon the `accuracy_score` ([Precision Score](https://scikit-learn.org/stable/modules/generated/sklearn.metrics.precision_score.html))"
   ]
  },
  {
   "cell_type": "code",
   "execution_count": 10,
   "metadata": {},
   "outputs": [
    {
     "name": "stdout",
     "output_type": "stream",
     "text": [
      "1    2308\n",
      "0     212\n",
      "Name: feedback, dtype: int64\n"
     ]
    }
   ],
   "source": [
    "# import libraries\n",
    "from sklearn.feature_extraction.text import CountVectorizer\n",
    "from sklearn.model_selection import train_test_split\n",
    "\n",
    "# Instantiate count vectorizer\n",
    "cv = CountVectorizer(max_features=1500)\n",
    "\n",
    "# Independent variable\n",
    "X = cv.fit_transform(corpus).toarray()\n",
    "\n",
    "# dependent variable\n",
    "y = df['feedback']\n",
    "\n",
    "# Counts\n",
    "count = y.value_counts()\n",
    "print(count)\n",
    "\n",
    "# Split the dataset\n",
    "X_train, X_test, y_train, y_test = train_test_split(X, y, test_size = 0.20, random_state = 0)"
   ]
  },
  {
   "cell_type": "code",
   "execution_count": 11,
   "metadata": {},
   "outputs": [
    {
     "name": "stdout",
     "output_type": "stream",
     "text": [
      "0.9305555555555556 0.9363449691991786\n"
     ]
    }
   ],
   "source": [
    "# import packages\n",
    "from sklearn.ensemble import RandomForestClassifier\n",
    "from sklearn.metrics import accuracy_score, precision_score, recall_score, confusion_matrix, f1_score\n",
    "\n",
    "# Instantiate calssifier\n",
    "rf = RandomForestClassifier(random_state=2)\n",
    "\n",
    "# fit model on training data\n",
    "rf.fit(X_train, y_train)\n",
    "\n",
    "# predict on test data\n",
    "y_pred = rf.predict(X_test)\n",
    "\n",
    "# calculate the accuracy score\n",
    "score = accuracy_score(y_test, y_pred)\n",
    "\n",
    "# calculate the precision\n",
    "precision = precision_score(y_test, y_pred)\n",
    "\n",
    "# display 'score' and 'precision'\n",
    "print(score, precision)"
   ]
  },
  {
   "cell_type": "code",
   "execution_count": 12,
   "metadata": {},
   "outputs": [
    {
     "name": "stdout",
     "output_type": "stream",
     "text": [
      "0.8888888888888888 0.9449339207048458\n"
     ]
    }
   ],
   "source": [
    "# import packages\n",
    "from imblearn.over_sampling import SMOTE\n",
    "\n",
    "# Instantiate smote\n",
    "smote = SMOTE(random_state=9)\n",
    "\n",
    "# fit_sample onm training data\n",
    "X_train, y_train = smote.fit_sample(X_train, y_train)\n",
    "\n",
    "# fit modelk on training data\n",
    "rf.fit(X_train, y_train)\n",
    "\n",
    "# predict on test data\n",
    "y_pred = rf.predict(X_test)\n",
    "\n",
    "# calculate the accuracy score\n",
    "score = accuracy_score(y_test, y_pred)\n",
    "\n",
    "# calculate the precision\n",
    "precision = precision_score(y_test, y_pred)\n",
    "\n",
    "# display precision and score\n",
    "print(score, precision)"
   ]
  },
  {
   "cell_type": "markdown",
   "metadata": {},
   "source": [
    "### Prediction on the test data and creating the sample submission file.\n",
    "\n",
    "- Load the test data and store the `Id` column in a separate variable.\n",
    "- Perform the same operations on the test data that you have performed on the train data.\n",
    "- Create the submission file as a `csv` file consisting of the `Id` column from the test data and your prediction as the second column."
   ]
  },
  {
   "cell_type": "code",
   "execution_count": 13,
   "metadata": {},
   "outputs": [
    {
     "name": "stdout",
     "output_type": "stream",
     "text": [
      "     Id  feedback\n",
      "0  2887         1\n",
      "1  1934         1\n",
      "2   142         1\n",
      "3  1072         1\n",
      "4  2258         1\n"
     ]
    }
   ],
   "source": [
    "# Code Starts here\n",
    "# Prediction on test data\n",
    "\n",
    "# Read the test data\n",
    "test = pd.read_csv('test.csv')\n",
    "\n",
    "# Storing the id from the test file\n",
    "id_ = test['Id']\n",
    "\n",
    "# Apply the transformations on test\n",
    "# Converting date attribute from string to datetime.date datatype \n",
    "test['date'] = pd.to_datetime(test['date'])\n",
    "\n",
    "# calculate the total length of word\n",
    "test['length'] = test['verified_reviews'].apply(len)\n",
    "\n",
    "# declare empty list 'corpus'\n",
    "corpus=[]\n",
    "\n",
    "# for loop to fill in corpus\n",
    "for i in range(0,630):\n",
    "    # retain alphabets\n",
    "    review = re.sub('[^a-zA-Z]', ' ', test['verified_reviews'][i] )\n",
    "    # convert to lower case\n",
    "    review=review.lower()\n",
    "    # tokenize\n",
    "    review=review.split()\n",
    "    # initialize stemmer object\n",
    "    ps=PorterStemmer()\n",
    "    # perform stemming\n",
    "    review=[ps.stem(word) for word in review if not word in set(stopwords.words('english'))]\n",
    "    # join elements of list\n",
    "    review=' '.join(review)\n",
    "    # add to 'corpus'\n",
    "    corpus.append(review)\n",
    "    \n",
    "test = cv.transform(corpus).toarray()\n",
    "\n",
    "# predict on test data\n",
    "y_pred_test = rf.predict(test)\n",
    "\n",
    "y_pred_test = y_pred_test.flatten()\n",
    "\n",
    "# Create a sample submission file\n",
    "sample_submission = pd.DataFrame({'Id':id_,'feedback':y_pred_test})\n",
    "print(sample_submission.head())\n",
    "\n",
    "# Convert the sample submission file into a csv file\n",
    "sample_submission.to_csv('sample_submission_test.csv',index=False)\n",
    "\n",
    "# Code ends here"
   ]
  },
  {
   "cell_type": "code",
   "execution_count": null,
   "metadata": {},
   "outputs": [],
   "source": []
  }
 ],
 "metadata": {
  "kernelspec": {
   "display_name": "Python 3",
   "language": "python",
   "name": "python3"
  },
  "language_info": {
   "codemirror_mode": {
    "name": "ipython",
    "version": 3
   },
   "file_extension": ".py",
   "mimetype": "text/x-python",
   "name": "python",
   "nbconvert_exporter": "python",
   "pygments_lexer": "ipython3",
   "version": "3.8.5"
  }
 },
 "nbformat": 4,
 "nbformat_minor": 2
}
